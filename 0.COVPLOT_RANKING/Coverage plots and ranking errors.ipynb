{
 "cells": [
  {
   "cell_type": "code",
   "execution_count": 1,
   "metadata": {},
   "outputs": [],
   "source": [
    "%matplotlib inline\n",
    "from sklearn.datasets import load_breast_cancer\n",
    "from sklearn.linear_model import LogisticRegression\n",
    "from sklearn.model_selection import train_test_split\n",
    "from sklearn.svm import SVC\n",
    "import matplotlib.pyplot as plt\n",
    "import numpy as np\n"
   ]
  },
  {
   "cell_type": "markdown",
   "metadata": {},
   "source": [
    "# Coverage Plot of a Ranking Classifier"
   ]
  },
  {
   "cell_type": "markdown",
   "metadata": {},
   "source": [
    "## First part: load the data and fit a scoring classifier\n",
    "\n",
    "- load the breast cancer dataset using the sklearn.datasets module;\n",
    "- import the learning algorithm of your choice (e.g., `linear_model.LogisticRegression`);\n",
    "- use the fit method to learn a new classifier specifying that you want the classifier to be setup to output probability estimates (use parameter 'probability=True' when instantiating the class);\n",
    "- use the learnt classifier to obtain the scores for the objects in the training set (use the `predict_proba` method);\n",
    "\n",
    "## Second part: ranking and coverage plot\n",
    "\n",
    "- Use the scores you just obtained to rank the examples (from higher to lower probability of being in class 1);\n",
    "- consider all possible classifiers you can obtain from such order by splitting the sequence in two and then deciding to label everything on the left as positive and everything on the right as negative);\n",
    "- evaluate the number of false positive examples (FP) and the number of true positive examples (TP) for each split;\n",
    "- plot those values on a scatter plot (hint: use the `matplotlib.pyplot.plot` function);\n",
    "\n",
    "## Third part: ranking error and the area under the coverage plot\n",
    "\n",
    "- Write a function `coverage_area` that given a set of (FP,TP) points, evaluates the area under the curve specified by those points;\n",
    "- Write the function `ranking error` that evaluates the ranking error: \n",
    "$$\n",
    "error=\\frac{\\sum_{{x^+} \\in \\mathrm{Pos} }\\sum_{{x^-} \\in \\mathrm{Neg} } I\\left[\\hat{s}(x^+) < \\hat{s}(x^-)\\right] + \\frac{1}{2} I\\left[\\hat{s}(x^+) = \\hat{s}(x^-)\\right]}{\\mathrm{|Pos|}\\times\\mathrm{|Neg|}}\n",
    "$$\n",
    "- Verify that $1$ minus the coverage area equals the ranking error.\n",
    "\n",
    "### Hints:\n",
    "To write the `coverage_area` function you might want to sum all the rectangles having sides $\\Delta \\mathrm{TP}$ and $\\mathrm{Neg} - \\mathrm{FP}$ (see also the picture below and notice that you should assume that the sequence of (FP,TP) points is sorted). \n",
    "\n",
    "<img src=\"./cov-area.png\">"
   ]
  },
  {
   "cell_type": "code",
   "execution_count": 2,
   "metadata": {},
   "outputs": [
    {
     "data": {
      "image/png": "[encoded data removed]",
      "text/plain": [
       "<Figure size 432x288 with 1 Axes>"
      ]
     },
     "metadata": {
      "needs_background": "light"
     },
     "output_type": "display_data"
    }
   ],
   "source": [
    "cancer = load_breast_cancer()\n",
    "X = cancer.data\n",
    "y = cancer.target\n",
    "\n",
    "#Split dataset and labels in training set and test set, with respectives labels\n",
    "X_train, X_test, y_train, y_test = train_test_split(X, y, test_size=.3, random_state = 42)\n",
    "\n",
    "#positive and negative count\n",
    "pos = [i for i,t in enumerate(y_test) if t == 1]\n",
    "neg = [i for i,t in enumerate(y_test) if t == 0]\n",
    "\n",
    "clf = LogisticRegression()\n",
    "clf.fit(X_train, y_train)\n",
    "y_predicted = clf.predict(X_test)\n",
    "y_predicted_proba = clf.predict_proba(X_test)\n",
    "\n",
    "#sorting examples \n",
    "proba = {i: x for i, x in enumerate(y_predicted_proba, start=0)}\n",
    "ranking = sorted(proba.keys(), key=lambda x: proba[x][1], reverse=True)\n",
    "\n",
    "#creation of all the possible classifiers \n",
    "x = []\n",
    "y = []\n",
    "\n",
    "for i in range (0, len(ranking)+1):\n",
    "    classifiers = {}\n",
    "    TP = 0\n",
    "    FP = 0\n",
    "    for j in range(0, len(ranking)):\n",
    "        if(j < i):\n",
    "            #positive\n",
    "            classifiers.update({ranking[j]: 1})\n",
    "        else:\n",
    "            #negative\n",
    "            classifiers.update({ranking[j]: 0})\n",
    "            \n",
    "    #TP and FP count\n",
    "    for j in range(0, len(classifiers)):\n",
    "        if(classifiers[j] == 1):\n",
    "            if(y_test[j] == 1):\n",
    "                TP += 1\n",
    "            else:\n",
    "                FP += 1\n",
    "    x.insert(i, FP)\n",
    "    y.insert(i, TP)\n",
    "plt.scatter(x, y)\n",
    "plt.ylabel('TP')\n",
    "plt.xlabel('FP')\n",
    "plt.grid(True)\n",
    "plt.show()\n"
   ]
  },
  {
   "cell_type": "markdown",
   "metadata": {},
   "source": [
    "## Interpretazione del grafico\n",
    "Considero tutti i possibili classificatori che è possibile ottenere dal ranking. In particolare considero un classificatore che classifica *N-i* esempi come positivi e *i* negativi, per *i=1,..,N-1 e N = |y_test|*.\n",
    "Praticamente all'inizio tutti gli esempi, tranne l'ultimo vengono considerati positivi, poi gli ultimi 2, 3, ecc. Alla fine avremo che solo il primo esempio considerato è positivo e tutti i restanti sono negativi.\n",
    "\n",
    "Il grafico indica esattamente questo: considerando all'inizio tutti gli esempi come positivi tranne 1, predirrò bene tutti gli esempi positivi, ma commetterò anche molti errori sugli esempi negativi, che considero positivi. Man mano vado avanti continuo a beccare esempi positivi e il tasso di FP diminuisce, perché considero man mano sempre più esempi negativi. La situazione ottimale è rappresentata dal punto in alto a sinistra, che è più vicino al ROC heaven, in quanto becco quasi tutti gli esempi positivi e il numero di falsi positivi è minimo, di conseguenza anche gli esempi negativi sono ben classificati. \n",
    "\n",
    "Andando avanti e considerando sempre più esempi come negativi, ovviamente il numero di falsi positivi diminuisce fino a 0 perché prediciamo bene gli esempi negativi, ma il numero di veri positivi si azzera perché non siamo in grado di predirli e di conseguenza, anche se dal grafico non si vede, avremo un alto tasso di falsi negativi, che sono gli esempi positivi considerati erroneamente negativi."
   ]
  },
  {
   "cell_type": "code",
   "execution_count": 3,
   "metadata": {},
   "outputs": [
    {
     "name": "stdout",
     "output_type": "stream",
     "text": [
      "Confusion matrix, without normalization\n",
      "[[ 59   4]\n",
      " [  2 106]]\n"
     ]
    },
    {
     "data": {
      "image/png": "[encoded data removed]",
      "text/plain": [
       "<Figure size 432x288 with 2 Axes>"
      ]
     },
     "metadata": {
      "needs_background": "light"
     },
     "output_type": "display_data"
    }
   ],
   "source": [
    "from sklearn.metrics import confusion_matrix\n",
    "import itertools\n",
    "def plot_confusion_matrix(cm, classes,\n",
    "                          normalize=False,\n",
    "                          title='Confusion matrix',\n",
    "                          cmap=plt.cm.Blues):\n",
    "    \n",
    "    if normalize:\n",
    "        cm = cm.astype('float') / cm.sum(axis=1)[:, np.newaxis]\n",
    "        print(\"Normalized confusion matrix\")\n",
    "    else:\n",
    "        print('Confusion matrix, without normalization')\n",
    "\n",
    "    print(cm)\n",
    "\n",
    "    plt.imshow(cm, interpolation='nearest', cmap=cmap)\n",
    "    plt.title(title)\n",
    "    plt.colorbar()\n",
    "    tick_marks = np.arange(len(classes))\n",
    "    plt.xticks(tick_marks, classes)\n",
    "    plt.yticks(tick_marks, classes)\n",
    "\n",
    "    fmt = '.2f' if normalize else 'd'\n",
    "    thresh = cm.max() / 2.\n",
    "    for i, j in itertools.product(range(cm.shape[0]), range(cm.shape[1])):\n",
    "        plt.text(j, i, format(cm[i, j], fmt),\n",
    "                 horizontalalignment=\"center\",\n",
    "                 color=\"white\" if cm[i, j] > thresh else \"black\")\n",
    "\n",
    "    plt.ylabel('True label')\n",
    "    plt.xlabel('Predicted label')\n",
    "    plt.tight_layout()\n",
    "    \n",
    "cnf_matrix = confusion_matrix(y_test, y_predicted)\n",
    "\n",
    "plt.figure()\n",
    "plot_confusion_matrix(cnf_matrix, classes=[0,1], title='Confusion matrix')"
   ]
  },
  {
   "cell_type": "code",
   "execution_count": 4,
   "metadata": {},
   "outputs": [
    {
     "name": "stdout",
     "output_type": "stream",
     "text": [
      "Normalized coverage area: 0.9977954144620811\n",
      "Ranking error: 0.002204585537918871\n",
      "1 - coverage area: 0.0022045855379189128\n"
     ]
    }
   ],
   "source": [
    "def cov_area(x, y):\n",
    "    area = 0\n",
    "    for i in range(0, len(x) - 1):\n",
    "        h = y[i+1] - y[i]\n",
    "        b = len(neg) - x[i]\n",
    "        area += (h*b)\n",
    "    return area\n",
    "\n",
    "def rank_err():\n",
    "    denom = len(pos) * len(neg)\n",
    "    error = 0\n",
    "    for i in range(0, len(pos)):\n",
    "        for j in range(0, len(neg)):\n",
    "            if(proba[pos[i]][1] < proba[neg[j]][1]):\n",
    "                error += 1\n",
    "            if(proba[pos[i]][1] == proba[neg[j]][1]):\n",
    "                error += 0.5\n",
    "    \n",
    "    return error/denom\n",
    "\n",
    "auc = cov_area(x, y)\n",
    "r_e = rank_err()\n",
    "print(\"Normalized coverage area: \"+ str(auc/(len(pos)*len(neg))))\n",
    "print(\"Ranking error: \" + str(r_e))\n",
    "print(\"1 - coverage area: \" + str((1-auc/(len(pos)*len(neg)))))"
   ]
  },
  {
   "cell_type": "code",
   "execution_count": null,
   "metadata": {},
   "outputs": [],
   "source": []
  }
 ],
 "metadata": {
  "kernelspec": {
   "display_name": "Python 3",
   "language": "python",
   "name": "python3"
  },
  "language_info": {
   "codemirror_mode": {
    "name": "ipython",
    "version": 3
   },
   "file_extension": ".py",
   "mimetype": "text/x-python",
   "name": "python",
   "nbconvert_exporter": "python",
   "pygments_lexer": "ipython3",
   "version": "3.7.5"
  }
 },
 "nbformat": 4,
 "nbformat_minor": 2
}
