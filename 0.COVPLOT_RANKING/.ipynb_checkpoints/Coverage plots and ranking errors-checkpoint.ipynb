{
 "cells": [
  {
   "cell_type": "code",
   "execution_count": 1,
   "metadata": {},
   "outputs": [],
   "source": [
    "%matplotlib inline\n",
    "from sklearn.datasets import load_breast_cancer\n",
    "from sklearn.linear_model import LogisticRegression\n",
    "from sklearn.model_selection import train_test_split\n",
    "from sklearn.svm import SVC\n",
    "import matplotlib.pyplot as plt\n",
    "import numpy as np\n"
   ]
  },
  {
   "cell_type": "markdown",
   "metadata": {},
   "source": [
    "# Coverage Plot of a Ranking Classifier"
   ]
  },
  {
   "cell_type": "markdown",
   "metadata": {},
   "source": [
    "## First part: load the data and fit a scoring classifier\n",
    "\n",
    "- load the breast cancer dataset using the sklearn.datasets module;\n",
    "- import the learning algorithm of your choice (e.g., `linear_model.LogisticRegression`);\n",
    "- use the fit method to learn a new classifier specifying that you want the classifier to be setup to output probability estimates (use parameter 'probability=True' when instantiating the class);\n",
    "- use the learnt classifier to obtain the scores for the objects in the training set (use the `predict_proba` method);\n",
    "\n",
    "## Second part: ranking and coverage plot\n",
    "\n",
    "- Use the scores you just obtained to rank the examples (from higher to lower probability of being in class 1);\n",
    "- consider all possible classifiers you can obtain from such order by splitting the sequence in two and then deciding to label everything on the left as positive and everything on the right as negative);\n",
    "- evaluate the number of false positive examples (FP) and the number of true positive examples (TP) for each split;\n",
    "- plot those values on a scatter plot (hint: use the `matplotlib.pyplot.plot` function);\n",
    "\n",
    "## Third part: ranking error and the area under the coverage plot\n",
    "\n",
    "- Write a function `coverage_area` that given a set of (FP,TP) points, evaluates the area under the curve specified by those points;\n",
    "- Write the function `ranking error` that evaluates the ranking error: \n",
    "$$\n",
    "error=\\frac{\\sum_{{x^+} \\in \\mathrm{Pos} }\\sum_{{x^-} \\in \\mathrm{Neg} } I\\left[\\hat{s}(x^+) < \\hat{s}(x^-)\\right] + \\frac{1}{2} I\\left[\\hat{s}(x^+) = \\hat{s}(x^-)\\right]}{\\mathrm{|Pos|}\\times\\mathrm{|Neg|}}\n",
    "$$\n",
    "- Verify that $1$ minus the coverage area equals the ranking error.\n",
    "\n",
    "### Hints:\n",
    "To write the `coverage_area` function you might want to sum all the rectangles having sides $\\Delta \\mathrm{TP}$ and $\\mathrm{Neg} - \\mathrm{FP}$ (see also the picture below and notice that you should assume that the sequence of (FP,TP) points is sorted). \n",
    "\n",
    "<img src=\"./cov-area.png\">"
   ]
  },
  {
   "cell_type": "code",
   "execution_count": 2,
   "metadata": {},
   "outputs": [],
   "source": [
    "cancer = load_breast_cancer()\n",
    "X = cancer.data\n",
    "y = cancer.target\n",
    "\n",
    "#Split dataset and labels in training set and test set, with respectives labels\n",
    "X_train, X_test, y_train, y_test = train_test_split(X, y, test_size=.3, random_state = 42)\n",
    "\n",
    "clf = LogisticRegression()\n",
    "clf.fit(X_train, y_train)\n",
    "y_predicted = clf.predict(X_test)\n",
    "y_predicted_proba = clf.predict_proba(X_test)\n",
    "\n",
    "#sorting indexes in descending order\n",
    "idx = y_predicted_proba[:, 1].argsort()\n",
    "#take the prediction in reverse order\n",
    "y_predicted_proba_ordered = y_predicted_proba[idx][::-1]\n",
    "#sort test examples according to score\n",
    "X_test_ordered = X_test[idx][::-1]\n",
    "#sort test labels according to score\n",
    "y_test_ordered = y_test[idx][::-1]\n",
    "y_predicted_ordered = y_predicted[idx][::-1]\n",
    "\n",
    "\n"
   ]
  },
  {
   "cell_type": "code",
   "execution_count": 3,
   "metadata": {},
   "outputs": [
    {
     "name": "stdout",
     "output_type": "stream",
     "text": [
      "Confusion matrix, without normalization\n",
      "[[ 59   4]\n",
      " [  2 106]]\n"
     ]
    },
    {
     "data": {
      "image/png": "[encoded data removed]",
      "text/plain": [
       "<Figure size 432x288 with 2 Axes>"
      ]
     },
     "metadata": {
      "needs_background": "light"
     },
     "output_type": "display_data"
    }
   ],
   "source": [
    "from sklearn.metrics import confusion_matrix\n",
    "import itertools\n",
    "def plot_confusion_matrix(cm, classes,\n",
    "                          normalize=False,\n",
    "                          title='Confusion matrix',\n",
    "                          cmap=plt.cm.Blues):\n",
    "    \"\"\"\n",
    "    This function prints and plots the confusion matrix.\n",
    "    Normalization can be applied by setting `normalize=True`.\n",
    "    \"\"\"\n",
    "    if normalize:\n",
    "        cm = cm.astype('float') / cm.sum(axis=1)[:, np.newaxis]\n",
    "        print(\"Normalized confusion matrix\")\n",
    "    else:\n",
    "        print('Confusion matrix, without normalization')\n",
    "\n",
    "    print(cm)\n",
    "\n",
    "    plt.imshow(cm, interpolation='nearest', cmap=cmap)\n",
    "    plt.title(title)\n",
    "    plt.colorbar()\n",
    "    tick_marks = np.arange(len(classes))\n",
    "    plt.xticks(tick_marks, classes)\n",
    "    plt.yticks(tick_marks, classes)\n",
    "\n",
    "    fmt = '.2f' if normalize else 'd'\n",
    "    thresh = cm.max() / 2.\n",
    "    for i, j in itertools.product(range(cm.shape[0]), range(cm.shape[1])):\n",
    "        plt.text(j, i, format(cm[i, j], fmt),\n",
    "                 horizontalalignment=\"center\",\n",
    "                 color=\"white\" if cm[i, j] > thresh else \"black\")\n",
    "\n",
    "    plt.ylabel('True label')\n",
    "    plt.xlabel('Predicted label')\n",
    "    plt.tight_layout()\n",
    "    \n",
    "cnf_matrix = confusion_matrix(y_test, y_predicted)\n",
    "\n",
    "plt.figure()\n",
    "plot_confusion_matrix(cnf_matrix, classes=[0,1], title='Confusion matrix')\n",
    "\n",
    "TN = cnf_matrix[0][0]\n",
    "TP = cnf_matrix[1][1]\n",
    "FN = cnf_matrix[1][0]\n",
    "FP = cnf_matrix[0][1]"
   ]
  },
  {
   "cell_type": "code",
   "execution_count": 4,
   "metadata": {},
   "outputs": [],
   "source": [
    "classifiers = np.empty([171])\n",
    "app = np.empty([171,1])\n",
    "all_tp_fp = list()\n",
    "k=1\n",
    "z=len(y_predicted)-k\n",
    "Z=len(y_predicted)\n",
    "while k<len(y_predicted):\n",
    "    for i in range(len(y_predicted-k)):\n",
    "        classifiers[i] = 1\n",
    "    while z<Z:\n",
    "        classifiers[z] = 0\n",
    "        z+=1\n",
    "    #print(classifiers)\n",
    "    cnf_matrix = confusion_matrix(y_test_ordered, classifiers)\n",
    "    all_tp_fp.append(np.array([cnf_matrix[1][1], cnf_matrix[0][1]]))\n",
    "    k+=1\n",
    "    z=len(y_predicted)-k\n",
    "#print(all_tp_fp[0][1])"
   ]
  },
  {
   "cell_type": "markdown",
   "metadata": {},
   "source": [
    "## Interpretazione del grafico\n",
    "Considero tutti i possibili classificatori che è possibile ottenere dal ranking. In particolare considero un classificatore che classifica *N-i* esempi come positivi e *i* negativi, per *i=1**,..,*N-1* e *N = |y_test|*.\n",
    "Praticamente all'inizio tutti gli esempi, tranne l'ultimo vengono considerati positivi, poi gli ultimi 2, 3, ecc. Alla fine avremo che solo il primo esempio considerato è positivo e tutti i restanti sono negativi.\n",
    "\n",
    "Il grafico indica esattamente questo: considerando all'inizio tutti gli esempi tranne 1 positivi, predirrò bene tutti gli esempi positivi, ma commetterò anche molti errori sugli esempi negativi, che considero positivi. Man mano vado avanti continuo a beccare esempi positivi e il tasso di FP diminuisce, perché considero man mano sempre più esempi negativi. La situazione ottimale è rappresentata dal punto in basso a sinistra, che è più vicino al ROC heaven, in quanto becco quasi tutti gli esempi positivi e il numero di falsi positivi è minimo, di conseguenza anche gli esempi negativi sono ben classificati. \n",
    "\n",
    "Andando avanti e considerando sempre più esempi negativi, ovviamente il numero di falsi positivi diminuisce fino a 0 perché prediciamo bene gli esempi negativi, ma il numero di veri positivi si azzera perché non siamo in grado di predirli e di conseguenza, anche se dal grafico non si vede, avremo un alto tasso di falsi negativi, che sono gli esempi positivi considerati erroneamente negativi."
   ]
  },
  {
   "cell_type": "code",
   "execution_count": 5,
   "metadata": {},
   "outputs": [
    {
     "data": {
      "image/png": "[encoded data removed]",
      "text/plain": [
       "<Figure size 432x288 with 1 Axes>"
      ]
     },
     "metadata": {
      "needs_background": "light"
     },
     "output_type": "display_data"
    }
   ],
   "source": [
    "for i in range(len(all_tp_fp)):\n",
    "    plt.scatter(all_tp_fp[i][1], all_tp_fp[i][0])\n",
    "plt.ylabel('TP')\n",
    "plt.xlabel('FP')\n",
    "plt.xticks(np.arange(0,65, 5))\n",
    "plt.yticks(np.arange(0, 108, 5))\n",
    "plt.grid(True)\n"
   ]
  },
  {
   "cell_type": "code",
   "execution_count": 8,
   "metadata": {},
   "outputs": [
    {
     "name": "stdout",
     "output_type": "stream",
     "text": [
      "0.9977389207114863\n"
     ]
    }
   ],
   "source": [
    "from sklearn.metrics import auc\n",
    "tpr = np.empty([170])\n",
    "fpr = np.empty([170])\n",
    "\n",
    "\n",
    "\n",
    "for i in range(len(all_tp_fp)):\n",
    "    tpr[i]= all_tp_fp[i][0]\n",
    "    fpr[i]= all_tp_fp[i][1]\n",
    "\n",
    "maxi_tp = np.amax(tpr)\n",
    "mini_tp = np.amin(tpr)\n",
    "maxi_fp = np.amax(fpr)\n",
    "mini_fp =np.amin(fpr)\n",
    "\n",
    "for i in range(len(tpr)):\n",
    "    tpr[i] = (tpr[i] - mini_tp) /  (maxi_tp - mini_tp) \n",
    "    fpr[i] = (fpr[i] - mini_fp)  / (maxi_fp - mini_fp)\n",
    "    \n",
    "#print(tpr, fpr)\n",
    "area = auc(fpr, tpr)\n",
    "print(area)"
   ]
  }
 ],
 "metadata": {
  "kernelspec": {
   "display_name": "Python 3",
   "language": "python",
   "name": "python3"
  },
  "language_info": {
   "codemirror_mode": {
    "name": "ipython",
    "version": 3
   },
   "file_extension": ".py",
   "mimetype": "text/x-python",
   "name": "python",
   "nbconvert_exporter": "python",
   "pygments_lexer": "ipython3",
   "version": "3.7.0"
  }
 },
 "nbformat": 4,
 "nbformat_minor": 2
}
