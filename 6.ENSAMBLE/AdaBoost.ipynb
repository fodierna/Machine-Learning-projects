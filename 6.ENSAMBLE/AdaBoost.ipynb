{
 "cells": [
  {
   "cell_type": "code",
   "execution_count": 160,
   "metadata": {},
   "outputs": [],
   "source": [
    "import numpy as np\n",
    "import math\n",
    "from copy import deepcopy\n",
    "import sklearn.datasets\n",
    "from sklearn.svm import SVC\n",
    "from matplotlib import pyplot as plt"
   ]
  },
  {
   "cell_type": "code",
   "execution_count": 145,
   "metadata": {},
   "outputs": [],
   "source": [
    "X,y = sklearn.datasets.make_hastie_10_2()\n",
    "X_train = X[0:8000,:]\n",
    "y_train = y[0:8000]\n",
    "X_test = X[8000:,:]\n",
    "y_test = y[8000:]"
   ]
  },
  {
   "cell_type": "markdown",
   "metadata": {},
   "source": [
    "# Exercise 1\n",
    "Implement the AdaBoost ensemble algorithm by completing the following code:"
   ]
  },
  {
   "cell_type": "code",
   "execution_count": 146,
   "metadata": {},
   "outputs": [],
   "source": [
    "# Implementazione di SVC che permette l'uso di pesi normalizzati\n",
    "class SVC_:\n",
    "    def __init__(self, kernel=\"rbf\", degree=\"3\"):\n",
    "        self.svc = SVC(kernel=kernel, degree=degree)\n",
    "\n",
    "    def fit(self, X,y,sample_weight=None):\n",
    "        if sample_weight is not None:\n",
    "            sample_weight = sample_weight * len(X)\n",
    "\n",
    "        self.svc.fit(X,y,sample_weight=sample_weight)\n",
    "        return self\n",
    "\n",
    "    def predict(self, X):\n",
    "        return self.svc.predict(X)"
   ]
  },
  {
   "cell_type": "code",
   "execution_count": 147,
   "metadata": {},
   "outputs": [],
   "source": [
    "def calc_error(y_true, y_pred):\n",
    "    return 0.5 - ((np.dot(y_true.T, y_pred)) / (2 * len(y_true)))"
   ]
  },
  {
   "cell_type": "code",
   "execution_count": 200,
   "metadata": {},
   "outputs": [],
   "source": [
    "class AdaBoost:\n",
    "    def __init__(self, weakModel, T, step = 10):\n",
    "        self.T = T\n",
    "        self.model = weakModel\n",
    "        self.alphas = []\n",
    "        self.models = []\n",
    "        self.weight_err = []\n",
    "        self.partial_err = []\n",
    "        self.step = step\n",
    "\n",
    "    def fit(self, X, y):\n",
    "        w = self.__init_weights(y.size)\n",
    "        partial_pred = np.zeros(y.size)\n",
    "        \n",
    "        for t in range(self.T):\n",
    "            model, y_pred = self.__apply_weak_model(X,y,w)\n",
    "                                \n",
    "            ymt = y * y_pred\n",
    "            error = np.dot(w, (ymt < 0).astype(int))\n",
    "            assert error <= 0.5, \"Error is not < 0.5: %f\" % error\n",
    "        \n",
    "            alpha = 0.5 * np.log((1 - error) / error)\n",
    "            \n",
    "            w = w * np.exp(-alpha * ymt)\n",
    "            w = w / np.sum(w)\n",
    "            \n",
    "            self.alphas.append(alpha)\n",
    "            self.models.append(model)\n",
    "            partial_pred += alpha * y_pred\n",
    "            partial_error = calc_error(y, np.sign(partial_pred))\n",
    "            \n",
    "            self.weight_err.append(error)\n",
    "            self.partial_err.append(partial_error)\n",
    "            \n",
    "            if (t == 0) or (t % self.step == 0):\n",
    "                print(\"Iterazione: {} \\t\\t Errore pesato: {} \\t\\t Errore ensemble: {}\".format(t, error, partial_error))\n",
    "            \n",
    "        return self\n",
    "\n",
    "    def predict(self, X):\n",
    "        preds = np.zeros(X.shape[0])\n",
    "        for t in range(self.T):\n",
    "            a = self.alphas[t]\n",
    "            m = self.models[t]\n",
    "            preds += a * m.predict(X)\n",
    "        return np.sign(preds)\n",
    "    \n",
    "    def __init_weights(self, n):\n",
    "        return np.ones(n)/n\n",
    "    \n",
    "    def __apply_weak_model(self, X, y, w):\n",
    "        mt = deepcopy(self.model)\n",
    "        return mt.fit(X,y,sample_weight=w), mt.predict(X)\n",
    "        "
   ]
  },
  {
   "cell_type": "markdown",
   "metadata": {},
   "source": [
    "In the implementation you are free to assume:\n",
    "- that the problem is a binary classification problem with labels in $\\{-1, +1\\}$.\n",
    "- that the weakModel can fit a weighted sample set by means of the call `weakModel.fit(X,y,sample_weight=w)` where `w` is a vector of length $|y|$."
   ]
  },
  {
   "cell_type": "markdown",
   "metadata": {},
   "source": [
    "Test your implementation on the dataset loaded above and using an SVC with a polynomial kernel. "
   ]
  },
  {
   "cell_type": "code",
   "execution_count": 203,
   "metadata": {},
   "outputs": [
    {
     "name": "stdout",
     "output_type": "stream",
     "text": [
      "Iterazione: 0 \t\t Errore pesato: 0.3490000000000002 \t\t Errore ensemble: 0.349\n",
      "Iterazione: 10 \t\t Errore pesato: 0.382590275872082 \t\t Errore ensemble: 0.21425\n",
      "Iterazione: 20 \t\t Errore pesato: 0.4075128824730465 \t\t Errore ensemble: 0.172875\n",
      "Iterazione: 30 \t\t Errore pesato: 0.4265847419371456 \t\t Errore ensemble: 0.16675\n",
      "Iterazione: 40 \t\t Errore pesato: 0.4377559859328395 \t\t Errore ensemble: 0.16025\n",
      "Iterazione: 50 \t\t Errore pesato: 0.4363473302222514 \t\t Errore ensemble: 0.15250000000000002\n",
      "Iterazione: 60 \t\t Errore pesato: 0.4562050567739646 \t\t Errore ensemble: 0.14137499999999997\n",
      "Iterazione: 70 \t\t Errore pesato: 0.4311152367121065 \t\t Errore ensemble: 0.14250000000000002\n",
      "Iterazione: 80 \t\t Errore pesato: 0.4575246560844142 \t\t Errore ensemble: 0.130625\n",
      "Iterazione: 90 \t\t Errore pesato: 0.46165177829218673 \t\t Errore ensemble: 0.130125\n",
      "\n",
      "Errore di classificazione su training set: 0.126125\n",
      "Errore di classificazione su test set: 0.0\n"
     ]
    }
   ],
   "source": [
    "weakModel = SVC_(kernel=\"poly\", degree=3)\n",
    "adaboost = AdaBoost(weakModel, 100)\n",
    "adaboost.fit(X_train, y_train)\n",
    "y_pred_train = adaboost.predict(X_train)\n",
    "y_pred_test = adaboost.predict(X_test)\n",
    "\n",
    "print(\"\\nErrore di classificazione su training set: {}\".format(calc_error(y_train, y_pred_train)))\n",
    "print(\"Errore di classificazione su test set: {}\".format(calc_error(y_pred, y_pred_test)))"
   ]
  },
  {
   "cell_type": "code",
   "execution_count": 204,
   "metadata": {},
   "outputs": [
    {
     "data": {
      "image/png": "[encoded data removed]",
      "text/plain": [
       "<matplotlib.figure.Figure at 0x28ff11a0668>"
      ]
     },
     "metadata": {},
     "output_type": "display_data"
    }
   ],
   "source": [
    "xs = np.arange(0, len(adaboost.partial_err))\n",
    "plt.plot(xs, adaboost.weight_err, \"b\")\n",
    "plt.plot(xs, adaboost.partial_err, \"y\")\n",
    "plt.xlabel(\"Iterazioni\")\n",
    "plt.ylabel(\"Errore\")\n",
    "plt.legend(['pesato', 'ensamble'], loc='lower left') \n",
    "plt.show()"
   ]
  },
  {
   "cell_type": "markdown",
   "metadata": {},
   "source": [
    "and evaluate the AdaBoost performances as usual by calculating the classification error. \n",
    "\n",
    "**Note 1**:  \n",
    "since the labels are bound to be in ${+1, -1}$, the classification error can be easily computed as:\n",
    "$$\n",
    "   error(y,y') = \\frac{1}{2} - \\frac{y^T \\times y'}{2N},\n",
    "$$\n",
    "where $N$ is the total number of examples. The formula can be derived noticing that $y^T \\times y'$ calculates the number $N_c$ of examples correctly classified  minus the number $N_{\\bar c}$ of examples incorrectly classified. We have then $y^T \\times y' = N_c - N_{\\bar c}$ and by noticing that $N = N_c + N_{\\bar c}$:\n",
    "$$\n",
    "   N - y^T \\times y' = 2 N_{\\bar c} \\Rightarrow \\frac{N - y^T \\times y'}{2 N} = \\frac{N_{\\bar c}}{N} = error(y,y')\n",
    "$$\n",
    "\n",
    "**Note 2**:\n",
    "do not forget to deepcopy your base model before fitting it to the new data\n",
    "\n",
    "**Note 3**:\n",
    "The SVC model allows specifying weights, but it *does not* work well when weights are normalized (it works well when the weights are larger). The following class takes normalized weights and denormalize them before passing them to the SVC classifier:\n",
    "\n",
    "```python\n",
    "    class SVC_:\n",
    "        def __init__(self, kernel=\"rbf\", degree=\"3\"):\n",
    "            self.svc = SVC(kernel=kernel, degree=degree)\n",
    "\n",
    "        def fit(self, X,y,sample_weight=None):\n",
    "            if sample_weight is not None:\n",
    "                sample_weight = sample_weight * len(X)\n",
    "\n",
    "            self.svc.fit(X,y,sample_weight=sample_weight)\n",
    "            return self\n",
    "\n",
    "        def predict(self, X):\n",
    "            return self.svc.predict(X)\n",
    "```"
   ]
  },
  {
   "cell_type": "markdown",
   "metadata": {},
   "source": [
    "# Exercise 2"
   ]
  },
  {
   "cell_type": "markdown",
   "metadata": {},
   "source": [
    "Write a weak learner to be used with the AdaBoost algorithm you just wrote. The weak learner that you will implement shall work as follows:\n",
    "\n",
    "- creates a random linear model $y(x) = \\mathbf{w} \\cdot \\mathbf{x} + t$ by generating the needed weight vector $\\mathbf{w}$ and $t$ at random; each weight shall be sampled from U(-1,1);\n",
    "- it evaluates the weighted loss $\\epsilon_t$ on the given dataset and flip the linear model if $\\epsilon_t > 0.5$\n",
    "- at prediction time it predicts +1 if $\\mathbf{x} \\cdot \\mathbf{w} > 0$ it predicts -1 otherwise."
   ]
  },
  {
   "cell_type": "code",
   "execution_count": 193,
   "metadata": {},
   "outputs": [],
   "source": [
    "class RandomLinearModel:\n",
    "    \n",
    "    def __init__(self):\n",
    "        self.flip = 1\n",
    "        \n",
    "    def loss(self, y, y_, w):\n",
    "        return np.dot(w, ((y*y_) < 0).astype(int))\n",
    "        \n",
    "    def fit(self,X,y,sample_weight=None):\n",
    "        self.w = np.random.uniform(-1, 1, X.shape[1])\n",
    "        err = self.loss(y, self.predict(X), sample_weight)\n",
    "        if err >= 0.5: self.flip = -1\n",
    "        return self        \n",
    "        \n",
    "    def predict(self,X):\n",
    "        return np.sign(np.dot(X, self.w) * self.flip)"
   ]
  },
  {
   "cell_type": "markdown",
   "metadata": {},
   "source": [
    "Learn an AdaBoost model using the RandomLinearModel weak learner printing every $K$ iterations the weighted error and the current error of the ensemble (you are free to choose $K$ so to make your output just frequent enough to let you know what is happening but without flooding the console with messages). Evaluate the training and test error of the final ensemble model."
   ]
  },
  {
   "cell_type": "code",
   "execution_count": 201,
   "metadata": {},
   "outputs": [
    {
     "name": "stdout",
     "output_type": "stream",
     "text": [
      "Iterazione: 0 \t\t Errore pesato: 0.49575000000000036 \t\t Errore ensemble: 0.49575\n",
      "Iterazione: 500 \t\t Errore pesato: 0.49828099800615094 \t\t Errore ensemble: 0.426125\n",
      "Iterazione: 1000 \t\t Errore pesato: 0.49764947942235527 \t\t Errore ensemble: 0.396625\n",
      "Iterazione: 1500 \t\t Errore pesato: 0.4992429826692379 \t\t Errore ensemble: 0.370625\n",
      "Iterazione: 2000 \t\t Errore pesato: 0.4997816176597797 \t\t Errore ensemble: 0.357\n",
      "Iterazione: 2500 \t\t Errore pesato: 0.4977914931768004 \t\t Errore ensemble: 0.3395\n",
      "Iterazione: 3000 \t\t Errore pesato: 0.49872729256786397 \t\t Errore ensemble: 0.32925\n",
      "Iterazione: 3500 \t\t Errore pesato: 0.49856675365811187 \t\t Errore ensemble: 0.3185\n",
      "Iterazione: 4000 \t\t Errore pesato: 0.4987455647272179 \t\t Errore ensemble: 0.3075\n",
      "Iterazione: 4500 \t\t Errore pesato: 0.49956886476639195 \t\t Errore ensemble: 0.29874999999999996\n",
      "Iterazione: 5000 \t\t Errore pesato: 0.4916183948491171 \t\t Errore ensemble: 0.286625\n",
      "Iterazione: 5500 \t\t Errore pesato: 0.49432255164051864 \t\t Errore ensemble: 0.273875\n",
      "Iterazione: 6000 \t\t Errore pesato: 0.4961568541802933 \t\t Errore ensemble: 0.26087499999999997\n",
      "Iterazione: 6500 \t\t Errore pesato: 0.49394793688252847 \t\t Errore ensemble: 0.249375\n",
      "Iterazione: 7000 \t\t Errore pesato: 0.4982361977957487 \t\t Errore ensemble: 0.24125000000000002\n",
      "Iterazione: 7500 \t\t Errore pesato: 0.4922513341395953 \t\t Errore ensemble: 0.2365\n",
      "Iterazione: 8000 \t\t Errore pesato: 0.49845105702868836 \t\t Errore ensemble: 0.229375\n",
      "Iterazione: 8500 \t\t Errore pesato: 0.49677567447687854 \t\t Errore ensemble: 0.22349999999999998\n",
      "Iterazione: 9000 \t\t Errore pesato: 0.4993143937926376 \t\t Errore ensemble: 0.21137499999999998\n",
      "Iterazione: 9500 \t\t Errore pesato: 0.49850279279744725 \t\t Errore ensemble: 0.20375\n",
      "\n",
      "Errore di classificazione su training set: 0.19787500000000002\n",
      "Errore di classificazione su test set: 0.47925\n"
     ]
    }
   ],
   "source": [
    "rs = RandomLinearModel()\n",
    "a = AdaBoost(rs, 10000, step=500)\n",
    "a.fit(X_train,y_train)\n",
    "\n",
    "y_pred_train = a.predict(X_train)\n",
    "y_pred_test = a.predict(X_test)\n",
    "\n",
    "print(\"\\nErrore di classificazione su training set: {}\".format(calc_error(y_train, y_pred_train)))\n",
    "print(\"Errore di classificazione su test set: {}\".format(calc_error(y_pred, y_pred_test)))"
   ]
  },
  {
   "cell_type": "code",
   "execution_count": 202,
   "metadata": {},
   "outputs": [
    {
     "data": {
      "image/png": "[encoded data removed]",
      "text/plain": [
       "<matplotlib.figure.Figure at 0x28ff0d7c9e8>"
      ]
     },
     "metadata": {},
     "output_type": "display_data"
    }
   ],
   "source": [
    "xs = np.arange(0, len(a.partial_err))\n",
    "plt.plot(xs, a.weight_err, \"b\")\n",
    "plt.plot(xs, a.partial_err, \"y\")\n",
    "plt.xlabel(\"Iterazioni\")\n",
    "plt.ylabel(\"Errore\")\n",
    "plt.legend(['pesato', 'ensamble'], loc='lower left') \n",
    "plt.show()"
   ]
  },
  {
   "cell_type": "markdown",
   "metadata": {},
   "source": [
    "Write few paragraphs about what you think about the experiment and about the results you obtained. "
   ]
  },
  {
   "cell_type": "markdown",
   "metadata": {},
   "source": [
    "Come si può osservare dai test la procedura di boosting permette di ridurre l'errore di classificazione apprendendo un insieme di modelli utilizzando un algoritmo di apprendimento debole e \"costringendolo\", tramite i pesi, a classificare bene parte degli esempi che ha difficoltà a classificare.\n",
    "\n",
    "### Test \\#1\n",
    "Utilizzando come weak learner il Support Vector Classifier si nota una decrescita esponenziale dell'errore all'aumentare del numero delle iterazioni. La procedura di boosting permette di ridurre l'errore a piacimento in poche iterazioni.\n",
    "\n",
    "### Test \\#2\n",
    "Utilizzando come weak learner il RandomLinearModel la procedura ensamble permette comunque di migliorare l'errore, ma a fronte di un numero di iterazioni molto maggiore, si nota infatti che l'errore decresce molto più lentamente rispetto al modello ensable che utilizza come weak learne il SVC.\n",
    "\n",
    "Le differenze tra i due test potrebbero essere causate dal modo in cui operano i weak learner.\n",
    "La SVC cerca il miglior separatore basandosi sugli esempi del training set e cercando di ottimizzare i pesi ad ogni iterazione. Il modello lineare invece genera i pesi in maniera casuale e di conseguenza il separatore (diverso ad ogni iterazione) risulta più impreciso e commette un errore vicino al 50% ad ogni iterazione. Ciò richiede un numero maggiore di iterazioni per far sì che l'errore decresca a sufficienza."
   ]
  },
  {
   "cell_type": "code",
   "execution_count": null,
   "metadata": {},
   "outputs": [],
   "source": []
  }
 ],
 "metadata": {
  "anaconda-cloud": {},
  "kernelspec": {
   "display_name": "Python 3",
   "language": "python",
   "name": "python3"
  },
  "language_info": {
   "codemirror_mode": {
    "name": "ipython",
    "version": 3
   },
   "file_extension": ".py",
   "mimetype": "text/x-python",
   "name": "python",
   "nbconvert_exporter": "python",
   "pygments_lexer": "ipython3",
   "version": "3.7.5"
  },
  "varInspector": {
   "cols": {
    "lenName": 16,
    "lenType": 16,
    "lenVar": 40
   },
   "kernels_config": {
    "python": {
     "delete_cmd_postfix": "",
     "delete_cmd_prefix": "del ",
     "library": "var_list.py",
     "varRefreshCmd": "print(var_dic_list())"
    },
    "r": {
     "delete_cmd_postfix": ") ",
     "delete_cmd_prefix": "rm(",
     "library": "var_list.r",
     "varRefreshCmd": "cat(var_dic_list()) "
    }
   },
   "position": {
    "height": "645px",
    "left": "1550px",
    "right": "20px",
    "top": "120px",
    "width": "350px"
   },
   "types_to_exclude": [
    "module",
    "function",
    "builtin_function_or_method",
    "instance",
    "_Feature"
   ],
   "window_display": false
  }
 },
 "nbformat": 4,
 "nbformat_minor": 1
}
